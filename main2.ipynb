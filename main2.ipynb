{
 "cells": [
  {
   "cell_type": "code",
   "execution_count": null,
   "id": "initial_id",
   "metadata": {
    "ExecuteTime": {
     "end_time": "2025-01-29T12:33:50.159736Z",
     "start_time": "2025-01-29T12:33:50.154155Z"
    },
    "collapsed": true
   },
   "outputs": [
    {
     "ename": "",
     "evalue": "",
     "output_type": "error",
     "traceback": [
      "\u001b[1;31mFailed to start the Kernel. \n",
      "\u001b[1;31mEPERM: operation not permitted, scandir '/Users/zhenya/Downloads/age_prediction-main-2'. \n",
      "\u001b[1;31mView Jupyter <a href='command:jupyter.viewOutput'>log</a> for further details."
     ]
    }
   ],
   "source": [
    "import pandas as pd\n",
    "import numpy as np\n",
    "import matplotlib.pyplot as plt\n",
    "import seaborn as sns\n",
    "from sklearn.model_selection import train_test_split\n",
    "from sklearn.preprocessing import StandardScaler\n",
    "from sklearn.ensemble import RandomForestRegressor\n",
    "from sklearn.metrics import mean_absolute_error, accuracy_score\n",
    "from sklearn.linear_model import Ridge\n",
    "from xgboost import XGBRegressor\n",
    "from sklearn.metrics import mean_squared_error"
   ]
  },
  {
   "cell_type": "code",
   "execution_count": null,
   "id": "ba2ab627cd75f9b0",
   "metadata": {
    "ExecuteTime": {
     "end_time": "2025-01-29T12:33:50.220879Z",
     "start_time": "2025-01-29T12:33:50.212684Z"
    }
   },
   "outputs": [
    {
     "ename": "",
     "evalue": "",
     "output_type": "error",
     "traceback": [
      "\u001b[1;31mFailed to start the Kernel. \n",
      "\u001b[1;31mEPERM: operation not permitted, scandir '/Users/zhenya/Downloads/age_prediction-main-2'. \n",
      "\u001b[1;31mView Jupyter <a href='command:jupyter.viewOutput'>log</a> for further details."
     ]
    }
   ],
   "source": [
    "file_path = 'Age_Prediction.csv'  \n",
    "try:\n",
    "    df = pd.read_csv(file_path)\n",
    "    print(\"dataset loaded\")\n",
    "except FileNotFoundError:\n",
    "    print(\"error:file not found\")"
   ]
  },
  {
   "cell_type": "code",
   "execution_count": null,
   "id": "47b2a0caf66805e2",
   "metadata": {
    "ExecuteTime": {
     "end_time": "2025-01-29T12:33:50.256163Z",
     "start_time": "2025-01-29T12:33:50.248721Z"
    }
   },
   "outputs": [
    {
     "ename": "",
     "evalue": "",
     "output_type": "error",
     "traceback": [
      "\u001b[1;31mFailed to start the Kernel. \n",
      "\u001b[1;31mEPERM: operation not permitted, scandir '/Users/zhenya/Downloads/age_prediction-main-2'. \n",
      "\u001b[1;31mView Jupyter <a href='command:jupyter.viewOutput'>log</a> for further details."
     ]
    }
   ],
   "source": [
    "class MLModel:\n",
    "    def __init__(self, model_type='ridge'):\n",
    "        self.model_type = model_type\n",
    "        self.scaler = StandardScaler()\n",
    "        \n",
    "        if model_type == 'ridge':\n",
    "            self.model = Ridge(alpha=1.0)\n",
    "        elif model_type == 'xgboost':\n",
    "            self.model = XGBRegressor(objective='reg:squarederror', n_estimators=100)\n",
    "        elif model_type == 'RandomForestRegressor':\n",
    "            self.model = RandomForestRegressor(random_state=42)\n",
    "        else:\n",
    "            raise ValueError(\"Unsupported model type\")\n",
    "        \n",
    "    def preprocess(self, X_train, X_test):\n",
    "        X_train_scaled = self.scaler.fit_transform(X_train)\n",
    "        X_test_scaled = self.scaler.transform(X_test)\n",
    "        return X_train_scaled, X_test_scaled\n",
    "    \n",
    "    def train(self, X_train, y_train):\n",
    "        self.model.fit(X_train, y_train)\n",
    "    \n",
    "    def predict(self, X_test):\n",
    "        return self.model.predict(X_test)\n",
    "    \n",
    "    def evaluate(self, y_test, y_pred):\n",
    "        return mean_squared_error(y_test, y_pred, squared=False)"
   ]
  },
  {
   "cell_type": "code",
   "execution_count": null,
   "id": "bb5fc314bcf9dc27",
   "metadata": {
    "ExecuteTime": {
     "end_time": "2025-01-29T12:33:50.288234Z",
     "start_time": "2025-01-29T12:33:50.281536Z"
    }
   },
   "outputs": [
    {
     "ename": "",
     "evalue": "",
     "output_type": "error",
     "traceback": [
      "\u001b[1;31mFailed to start the Kernel. \n",
      "\u001b[1;31mEPERM: operation not permitted, scandir '/Users/zhenya/Downloads/age_prediction-main-2'. \n",
      "\u001b[1;31mView Jupyter <a href='command:jupyter.viewOutput'>log</a> for further details."
     ]
    }
   ],
   "source": [
    "print(df.head())"
   ]
  },
  {
   "cell_type": "code",
   "execution_count": null,
   "id": "4a4fc69f2e7da4a7",
   "metadata": {
    "ExecuteTime": {
     "end_time": "2025-01-29T12:33:50.366437Z",
     "start_time": "2025-01-29T12:33:50.358221Z"
    }
   },
   "outputs": [
    {
     "ename": "",
     "evalue": "",
     "output_type": "error",
     "traceback": [
      "\u001b[1;31mFailed to start the Kernel. \n",
      "\u001b[1;31mEPERM: operation not permitted, scandir '/Users/zhenya/Downloads/age_prediction-main-2'. \n",
      "\u001b[1;31mView Jupyter <a href='command:jupyter.viewOutput'>log</a> for further details."
     ]
    }
   ],
   "source": [
    "df.info()"
   ]
  },
  {
   "cell_type": "code",
   "execution_count": null,
   "id": "7181c9205cae2868",
   "metadata": {
    "ExecuteTime": {
     "end_time": "2025-01-29T12:33:50.437940Z",
     "start_time": "2025-01-29T12:33:50.435405Z"
    }
   },
   "outputs": [
    {
     "ename": "",
     "evalue": "",
     "output_type": "error",
     "traceback": [
      "\u001b[1;31mFailed to start the Kernel. \n",
      "\u001b[1;31mEPERM: operation not permitted, scandir '/Users/zhenya/Downloads/age_prediction-main-2'. \n",
      "\u001b[1;31mView Jupyter <a href='command:jupyter.viewOutput'>log</a> for further details."
     ]
    }
   ],
   "source": []
  },
  {
   "cell_type": "code",
   "execution_count": null,
   "id": "95414d67aa284470",
   "metadata": {
    "ExecuteTime": {
     "end_time": "2025-01-29T12:33:50.485348Z",
     "start_time": "2025-01-29T12:33:50.480735Z"
    }
   },
   "outputs": [
    {
     "ename": "",
     "evalue": "",
     "output_type": "error",
     "traceback": [
      "\u001b[1;31mFailed to start the Kernel. \n",
      "\u001b[1;31mEPERM: operation not permitted, scandir '/Users/zhenya/Downloads/age_prediction-main-2'. \n",
      "\u001b[1;31mView Jupyter <a href='command:jupyter.viewOutput'>log</a> for further details."
     ]
    }
   ],
   "source": [
    "print(\"\\nmissing values:\")\n",
    "print(df.isnull().sum())"
   ]
  },
  {
   "cell_type": "code",
   "execution_count": null,
   "id": "569ba1508448d5b5",
   "metadata": {
    "ExecuteTime": {
     "end_time": "2025-01-29T12:33:50.775113Z",
     "start_time": "2025-01-29T12:33:50.533927Z"
    }
   },
   "outputs": [
    {
     "ename": "",
     "evalue": "",
     "output_type": "error",
     "traceback": [
      "\u001b[1;31mFailed to start the Kernel. \n",
      "\u001b[1;31mEPERM: operation not permitted, scandir '/Users/zhenya/Downloads/age_prediction-main-2'. \n",
      "\u001b[1;31mView Jupyter <a href='command:jupyter.viewOutput'>log</a> for further details."
     ]
    }
   ],
   "source": [
    "plt.figure(figsize=(10, 6))\n",
    "sns.histplot(df['Age'], kde=True, bins=30, color=\"skyblue\")\n",
    "plt.title(\"Distribution of Age\")\n",
    "plt.xlabel(\"Age\")\n",
    "plt.ylabel(\"Frequency\")\n",
    "plt.show()"
   ]
  },
  {
   "cell_type": "code",
   "execution_count": null,
   "id": "84c305ffcdb7fbf2",
   "metadata": {
    "ExecuteTime": {
     "end_time": "2025-01-29T12:33:52.935662Z",
     "start_time": "2025-01-29T12:33:50.810262Z"
    }
   },
   "outputs": [
    {
     "ename": "",
     "evalue": "",
     "output_type": "error",
     "traceback": [
      "\u001b[1;31mFailed to start the Kernel. \n",
      "\u001b[1;31mEPERM: operation not permitted, scandir '/Users/zhenya/Downloads/age_prediction-main-2'. \n",
      "\u001b[1;31mView Jupyter <a href='command:jupyter.viewOutput'>log</a> for further details."
     ]
    }
   ],
   "source": [
    "for col in df:\n",
    "    sns.histplot(x=col,data=df,kde=True)\n",
    "    plt.show()"
   ]
  },
  {
   "cell_type": "code",
   "execution_count": null,
   "id": "cd45ebf18b032c6b",
   "metadata": {
    "ExecuteTime": {
     "end_time": "2025-01-29T12:33:53.283638Z",
     "start_time": "2025-01-29T12:33:52.943820Z"
    }
   },
   "outputs": [
    {
     "ename": "",
     "evalue": "",
     "output_type": "error",
     "traceback": [
      "\u001b[1;31mFailed to start the Kernel. \n",
      "\u001b[1;31mEPERM: operation not permitted, scandir '/Users/zhenya/Downloads/age_prediction-main-2'. \n",
      "\u001b[1;31mView Jupyter <a href='command:jupyter.viewOutput'>log</a> for further details."
     ]
    }
   ],
   "source": [
    "plt.figure(figsize=(12, 8))\n",
    "corr = df.corr(numeric_only=True)\n",
    "sns.heatmap(corr, annot=True, cmap=\"coolwarm\", fmt=\".2f\")\n",
    "plt.title(\"Correlation Heatmap\")\n",
    "plt.show()"
   ]
  },
  {
   "cell_type": "code",
   "execution_count": null,
   "id": "be499531f579eddf",
   "metadata": {
    "ExecuteTime": {
     "end_time": "2025-01-29T12:33:53.312577Z",
     "start_time": "2025-01-29T12:33:53.307899Z"
    }
   },
   "outputs": [
    {
     "ename": "",
     "evalue": "",
     "output_type": "error",
     "traceback": [
      "\u001b[1;31mFailed to start the Kernel. \n",
      "\u001b[1;31mEPERM: operation not permitted, scandir '/Users/zhenya/Downloads/age_prediction-main-2'. \n",
      "\u001b[1;31mView Jupyter <a href='command:jupyter.viewOutput'>log</a> for further details."
     ]
    }
   ],
   "source": [
    "df = pd.get_dummies(df, drop_first=True)"
   ]
  },
  {
   "cell_type": "code",
   "execution_count": null,
   "id": "e916936bd7b9f72d",
   "metadata": {
    "ExecuteTime": {
     "end_time": "2025-01-29T12:33:53.344955Z",
     "start_time": "2025-01-29T12:33:53.338609Z"
    }
   },
   "outputs": [
    {
     "ename": "",
     "evalue": "",
     "output_type": "error",
     "traceback": [
      "\u001b[1;31mFailed to start the Kernel. \n",
      "\u001b[1;31mEPERM: operation not permitted, scandir '/Users/zhenya/Downloads/age_prediction-main-2'. \n",
      "\u001b[1;31mView Jupyter <a href='command:jupyter.viewOutput'>log</a> for further details."
     ]
    }
   ],
   "source": [
    "X = df.drop(\"Age\", axis=1)\n",
    "y = df[\"Age\"]\n",
    "\n",
    "X_train, X_test, y_train, y_test = train_test_split(X, y, test_size=0.2, random_state=42)"
   ]
  },
  {
   "cell_type": "code",
   "execution_count": null,
   "id": "ac289012ca84c2aa",
   "metadata": {
    "ExecuteTime": {
     "end_time": "2025-01-29T12:33:53.382833Z",
     "start_time": "2025-01-29T12:33:53.373989Z"
    }
   },
   "outputs": [
    {
     "ename": "",
     "evalue": "",
     "output_type": "error",
     "traceback": [
      "\u001b[1;31mFailed to start the Kernel. \n",
      "\u001b[1;31mEPERM: operation not permitted, scandir '/Users/zhenya/Downloads/age_prediction-main-2'. \n",
      "\u001b[1;31mView Jupyter <a href='command:jupyter.viewOutput'>log</a> for further details."
     ]
    }
   ],
   "source": [
    "rfr_model = MLModel(model_type='rfr')\n",
    "X_train_scaled, X_test_scaled = rfr_model.preprocess(X_train, X_test)\n",
    "rfr_model.train(X_train_scaled, y_train)\n",
    "y_pred_ridge = rfr_model.predict(X_test_scaled)\n",
    "rfr_rmse = rfr_model.evaluate(y_test, y_pred_ridge)\n",
    "print(f'Ridge RMSE: {rfr_rmse:.4f}')"
   ]
  },
  {
   "cell_type": "code",
   "execution_count": null,
   "id": "cc4604f748a45786",
   "metadata": {
    "ExecuteTime": {
     "end_time": "2025-01-29T12:33:53.421323Z",
     "start_time": "2025-01-29T12:33:53.412051Z"
    }
   },
   "outputs": [
    {
     "ename": "",
     "evalue": "",
     "output_type": "error",
     "traceback": [
      "\u001b[1;31mFailed to start the Kernel. \n",
      "\u001b[1;31mEPERM: operation not permitted, scandir '/Users/zhenya/Downloads/age_prediction-main-2'. \n",
      "\u001b[1;31mView Jupyter <a href='command:jupyter.viewOutput'>log</a> for further details."
     ]
    }
   ],
   "source": [
    "ridge_model = MLModel(model_type='ridge')\n",
    "X_train_scaled, X_test_scaled = ridge_model.preprocess(X_train, X_test)\n",
    "ridge_model.train(X_train_scaled, y_train)\n",
    "y_pred_ridge = ridge_model.predict(X_test_scaled)\n",
    "ridge_rmse = ridge_model.evaluate(y_test, y_pred_ridge)\n",
    "print(f'Ridge RMSE: {ridge_rmse:.4f}')"
   ]
  },
  {
   "cell_type": "code",
   "execution_count": null,
   "id": "1555d76d6eafbfab",
   "metadata": {
    "ExecuteTime": {
     "end_time": "2025-01-29T12:33:53.627183Z",
     "start_time": "2025-01-29T12:33:53.530420Z"
    }
   },
   "outputs": [
    {
     "ename": "",
     "evalue": "",
     "output_type": "error",
     "traceback": [
      "\u001b[1;31mFailed to start the Kernel. \n",
      "\u001b[1;31mEPERM: operation not permitted, scandir '/Users/zhenya/Downloads/age_prediction-main-2'. \n",
      "\u001b[1;31mView Jupyter <a href='command:jupyter.viewOutput'>log</a> for further details."
     ]
    }
   ],
   "source": [
    "xgb_model = MLModel(model_type='xgboost')\n",
    "xgb_model.train(X_train, y_train)\n",
    "y_pred_xgb = xgb_model.predict(X_test)\n",
    "xgb_rmse = xgb_model.evaluate(y_test, y_pred_xgb)\n",
    "print(f'XGBoost RMSE: {xgb_rmse:.4f}')\n"
   ]
  },
  {
   "cell_type": "code",
   "execution_count": null,
   "id": "782d0395c2ffa717",
   "metadata": {
    "ExecuteTime": {
     "end_time": "2025-01-29T12:33:53.717710Z",
     "start_time": "2025-01-29T12:33:53.715179Z"
    }
   },
   "outputs": [
    {
     "ename": "",
     "evalue": "",
     "output_type": "error",
     "traceback": [
      "\u001b[1;31mFailed to start the Kernel. \n",
      "\u001b[1;31mEPERM: operation not permitted, scandir '/Users/zhenya/Downloads/age_prediction-main-2'. \n",
      "\u001b[1;31mView Jupyter <a href='command:jupyter.viewOutput'>log</a> for further details."
     ]
    }
   ],
   "source": []
  },
  {
   "cell_type": "code",
   "execution_count": null,
   "id": "1f643784a20aba0c",
   "metadata": {
    "ExecuteTime": {
     "end_time": "2025-01-29T12:33:55.441623Z",
     "start_time": "2025-01-29T12:33:53.778421Z"
    }
   },
   "outputs": [
    {
     "ename": "",
     "evalue": "",
     "output_type": "error",
     "traceback": [
      "\u001b[1;31mFailed to start the Kernel. \n",
      "\u001b[1;31mEPERM: operation not permitted, scandir '/Users/zhenya/Downloads/age_prediction-main-2'. \n",
      "\u001b[1;31mView Jupyter <a href='command:jupyter.viewOutput'>log</a> for further details."
     ]
    }
   ],
   "source": [
    "model.fit(X_train, y_train)\n",
    "feature_importances = pd.DataFrame({\n",
    "    'Feature': df.drop(\"Age\", axis=1).columns,\n",
    "    'Importance': model.feature_importances_\n",
    "}).sort_values(by=\"Importance\", ascending=False)\n",
    "\n",
    "plt.figure(figsize=(10, 6))\n",
    "sns.barplot(x=\"Importance\", y=\"Feature\", data=feature_importances, palette=\"viridis\")\n",
    "plt.title(\"Feature Importances\")\n",
    "plt.show()"
   ]
  },
  {
   "cell_type": "code",
   "execution_count": null,
   "id": "795190dfe9d976f2",
   "metadata": {
    "ExecuteTime": {
     "end_time": "2025-01-29T12:33:55.462312Z",
     "start_time": "2025-01-29T12:33:55.449503Z"
    }
   },
   "outputs": [
    {
     "ename": "",
     "evalue": "",
     "output_type": "error",
     "traceback": [
      "\u001b[1;31mFailed to start the Kernel. \n",
      "\u001b[1;31mEPERM: operation not permitted, scandir '/Users/zhenya/Downloads/age_prediction-main-2'. \n",
      "\u001b[1;31mView Jupyter <a href='command:jupyter.viewOutput'>log</a> for further details."
     ]
    }
   ],
   "source": [
    "scaler = StandardScaler()\n",
    "X_train = scaler.fit_transform(X_train)\n",
    "X_test = scaler.transform(X_test)\n",
    "def predict_age(input_data):\n",
    "    input_df = pd.DataFrame([input_data])\n",
    "    input_df = pd.get_dummies(input_df, drop_first=True)\n",
    "    \n",
    "    missing_cols = set(X.columns) - set(input_df.columns)\n",
    "    for col in missing_cols:\n",
    "        input_df[col] = 0\n",
    "    \n",
    "\n",
    "    input_df = input_df[X.columns]\n",
    "    \n",
    "\n",
    "    input_scaled = scaler.transform(input_df)\n",
    "    \n",
    "\n",
    "    predicted_age = rfr_model.predict(input_scaled)\n",
    "    \n",
    "    return predicted_age[0]\n",
    "\n",
    "\n",
    "input_data = { \n",
    "    'Gender': 1,  \n",
    "    'PAQ605': 2,  \n",
    "    'Body mass index':24.6,\n",
    "    'Blood Glucose after fasting':100,\n",
    "    'Diabetic or not':2,\n",
    "    \"Respondent's Oral\":97,\n",
    "    'Blood Insulin Level':4.33\n",
    "}\n",
    "\n",
    "predicted_age = predict_age(input_data)\n",
    "print(f\"Przewidywany wiek: {predicted_age}\")\n"
   ]
  }
 ],
 "metadata": {
  "kernelspec": {
   "display_name": "Python 3",
   "language": "python",
   "name": "python3"
  },
  "language_info": {
   "codemirror_mode": {
    "name": "ipython",
    "version": 2
   },
   "file_extension": ".py",
   "mimetype": "text/x-python",
   "name": "python",
   "nbconvert_exporter": "python",
   "pygments_lexer": "ipython2",
   "version": "3.12.7"
  }
 },
 "nbformat": 4,
 "nbformat_minor": 5
}
